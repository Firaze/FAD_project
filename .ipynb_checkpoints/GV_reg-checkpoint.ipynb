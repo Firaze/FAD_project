{
 "cells": [
  {
   "cell_type": "code",
   "execution_count": 37,
   "metadata": {},
   "outputs": [],
   "source": [
    "import dill\n",
    "dill.load_session('notebook_env.db')"
   ]
  },
  {
   "cell_type": "code",
   "execution_count": 38,
   "metadata": {},
   "outputs": [
    {
     "data": {
      "text/html": [
       "<table class=\"simpletable\">\n",
       "<caption>OLS Regression Results</caption>\n",
       "<tr>\n",
       "  <th>Dep. Variable:</th>          <td>label</td>      <th>  R-squared:         </th> <td>   0.812</td>\n",
       "</tr>\n",
       "<tr>\n",
       "  <th>Model:</th>                   <td>OLS</td>       <th>  Adj. R-squared:    </th> <td>   0.810</td>\n",
       "</tr>\n",
       "<tr>\n",
       "  <th>Method:</th>             <td>Least Squares</td>  <th>  F-statistic:       </th> <td>   634.8</td>\n",
       "</tr>\n",
       "<tr>\n",
       "  <th>Date:</th>             <td>Sat, 15 Feb 2020</td> <th>  Prob (F-statistic):</th>  <td>  0.00</td> \n",
       "</tr>\n",
       "<tr>\n",
       "  <th>Time:</th>                 <td>17:04:50</td>     <th>  Log-Likelihood:    </th> <td>  258.06</td>\n",
       "</tr>\n",
       "<tr>\n",
       "  <th>No. Observations:</th>      <td>  2376</td>      <th>  AIC:               </th> <td>  -482.1</td>\n",
       "</tr>\n",
       "<tr>\n",
       "  <th>Df Residuals:</th>          <td>  2359</td>      <th>  BIC:               </th> <td>  -384.0</td>\n",
       "</tr>\n",
       "<tr>\n",
       "  <th>Df Model:</th>              <td>    16</td>      <th>                     </th>     <td> </td>   \n",
       "</tr>\n",
       "<tr>\n",
       "  <th>Covariance Type:</th>      <td>nonrobust</td>    <th>                     </th>     <td> </td>   \n",
       "</tr>\n",
       "</table>\n",
       "<table class=\"simpletable\">\n",
       "<tr>\n",
       "      <td></td>         <th>coef</th>     <th>std err</th>      <th>t</th>      <th>P>|t|</th>  <th>[0.025</th>    <th>0.975]</th>  \n",
       "</tr>\n",
       "<tr>\n",
       "  <th>Intercept</th> <td>   -0.3150</td> <td>    0.111</td> <td>   -2.835</td> <td> 0.005</td> <td>   -0.533</td> <td>   -0.097</td>\n",
       "</tr>\n",
       "<tr>\n",
       "  <th>meanfreq</th>  <td>   -0.4944</td> <td>    0.906</td> <td>   -0.546</td> <td> 0.585</td> <td>   -2.270</td> <td>    1.281</td>\n",
       "</tr>\n",
       "<tr>\n",
       "  <th>sd</th>        <td>   -2.9452</td> <td>    1.216</td> <td>   -2.422</td> <td> 0.016</td> <td>   -5.330</td> <td>   -0.561</td>\n",
       "</tr>\n",
       "<tr>\n",
       "  <th>median</th>    <td>    1.3242</td> <td>    0.522</td> <td>    2.537</td> <td> 0.011</td> <td>    0.301</td> <td>    2.348</td>\n",
       "</tr>\n",
       "<tr>\n",
       "  <th>Q25</th>       <td>    0.4242</td> <td>    0.499</td> <td>    0.850</td> <td> 0.396</td> <td>   -0.555</td> <td>    1.403</td>\n",
       "</tr>\n",
       "<tr>\n",
       "  <th>Q75</th>       <td>   -2.4774</td> <td>    0.647</td> <td>   -3.826</td> <td> 0.000</td> <td>   -3.747</td> <td>   -1.208</td>\n",
       "</tr>\n",
       "<tr>\n",
       "  <th>IQR</th>       <td>   -2.9016</td> <td>    0.239</td> <td>  -12.117</td> <td> 0.000</td> <td>   -3.371</td> <td>   -2.432</td>\n",
       "</tr>\n",
       "<tr>\n",
       "  <th>skew</th>      <td>    0.0266</td> <td>    0.006</td> <td>    4.323</td> <td> 0.000</td> <td>    0.015</td> <td>    0.039</td>\n",
       "</tr>\n",
       "<tr>\n",
       "  <th>kurt</th>      <td>   -0.0004</td> <td>    0.000</td> <td>   -1.958</td> <td> 0.050</td> <td>   -0.001</td> <td> 5.67e-07</td>\n",
       "</tr>\n",
       "<tr>\n",
       "  <th>sfm</th>       <td>    0.4549</td> <td>    0.067</td> <td>    6.809</td> <td> 0.000</td> <td>    0.324</td> <td>    0.586</td>\n",
       "</tr>\n",
       "<tr>\n",
       "  <th>mode</th>      <td>   -0.5198</td> <td>    0.092</td> <td>   -5.676</td> <td> 0.000</td> <td>   -0.699</td> <td>   -0.340</td>\n",
       "</tr>\n",
       "<tr>\n",
       "  <th>centroid</th>  <td>   -0.4944</td> <td>    0.906</td> <td>   -0.546</td> <td> 0.585</td> <td>   -2.270</td> <td>    1.281</td>\n",
       "</tr>\n",
       "<tr>\n",
       "  <th>meanfun</th>   <td>   12.0983</td> <td>    0.186</td> <td>   64.998</td> <td> 0.000</td> <td>   11.733</td> <td>   12.463</td>\n",
       "</tr>\n",
       "<tr>\n",
       "  <th>minfun</th>    <td>   -2.7008</td> <td>    0.277</td> <td>   -9.752</td> <td> 0.000</td> <td>   -3.244</td> <td>   -2.158</td>\n",
       "</tr>\n",
       "<tr>\n",
       "  <th>maxfun</th>    <td>   -0.7159</td> <td>    0.186</td> <td>   -3.850</td> <td> 0.000</td> <td>   -1.080</td> <td>   -0.351</td>\n",
       "</tr>\n",
       "<tr>\n",
       "  <th>meandom</th>   <td>    0.0533</td> <td>    0.017</td> <td>    3.183</td> <td> 0.001</td> <td>    0.020</td> <td>    0.086</td>\n",
       "</tr>\n",
       "<tr>\n",
       "  <th>mindom</th>    <td>   -0.1074</td> <td>    0.055</td> <td>   -1.960</td> <td> 0.050</td> <td>   -0.215</td> <td> 5.71e-05</td>\n",
       "</tr>\n",
       "<tr>\n",
       "  <th>maxdom</th>    <td>   -0.0527</td> <td>    0.027</td> <td>   -1.918</td> <td> 0.055</td> <td>   -0.107</td> <td>    0.001</td>\n",
       "</tr>\n",
       "<tr>\n",
       "  <th>dfrange</th>   <td>    0.0547</td> <td>    0.027</td> <td>    1.998</td> <td> 0.046</td> <td>    0.001</td> <td>    0.108</td>\n",
       "</tr>\n",
       "<tr>\n",
       "  <th>modindx</th>   <td>   -0.0165</td> <td>    0.051</td> <td>   -0.326</td> <td> 0.744</td> <td>   -0.116</td> <td>    0.083</td>\n",
       "</tr>\n",
       "</table>\n",
       "<table class=\"simpletable\">\n",
       "<tr>\n",
       "  <th>Omnibus:</th>       <td>104.974</td> <th>  Durbin-Watson:     </th> <td>   2.092</td>\n",
       "</tr>\n",
       "<tr>\n",
       "  <th>Prob(Omnibus):</th> <td> 0.000</td>  <th>  Jarque-Bera (JB):  </th> <td> 315.854</td>\n",
       "</tr>\n",
       "<tr>\n",
       "  <th>Skew:</th>          <td> 0.129</td>  <th>  Prob(JB):          </th> <td>2.59e-69</td>\n",
       "</tr>\n",
       "<tr>\n",
       "  <th>Kurtosis:</th>      <td> 4.767</td>  <th>  Cond. No.          </th> <td>6.22e+19</td>\n",
       "</tr>\n",
       "</table><br/><br/>Warnings:<br/>[1] Standard Errors assume that the covariance matrix of the errors is correctly specified.<br/>[2] The smallest eigenvalue is 1.05e-32. This might indicate that there are<br/>strong multicollinearity problems or that the design matrix is singular."
      ],
      "text/plain": [
       "<class 'statsmodels.iolib.summary.Summary'>\n",
       "\"\"\"\n",
       "                            OLS Regression Results                            \n",
       "==============================================================================\n",
       "Dep. Variable:                  label   R-squared:                       0.812\n",
       "Model:                            OLS   Adj. R-squared:                  0.810\n",
       "Method:                 Least Squares   F-statistic:                     634.8\n",
       "Date:                Sat, 15 Feb 2020   Prob (F-statistic):               0.00\n",
       "Time:                        17:04:50   Log-Likelihood:                 258.06\n",
       "No. Observations:                2376   AIC:                            -482.1\n",
       "Df Residuals:                    2359   BIC:                            -384.0\n",
       "Df Model:                          16                                         \n",
       "Covariance Type:            nonrobust                                         \n",
       "==============================================================================\n",
       "                 coef    std err          t      P>|t|      [0.025      0.975]\n",
       "------------------------------------------------------------------------------\n",
       "Intercept     -0.3150      0.111     -2.835      0.005      -0.533      -0.097\n",
       "meanfreq      -0.4944      0.906     -0.546      0.585      -2.270       1.281\n",
       "sd            -2.9452      1.216     -2.422      0.016      -5.330      -0.561\n",
       "median         1.3242      0.522      2.537      0.011       0.301       2.348\n",
       "Q25            0.4242      0.499      0.850      0.396      -0.555       1.403\n",
       "Q75           -2.4774      0.647     -3.826      0.000      -3.747      -1.208\n",
       "IQR           -2.9016      0.239    -12.117      0.000      -3.371      -2.432\n",
       "skew           0.0266      0.006      4.323      0.000       0.015       0.039\n",
       "kurt          -0.0004      0.000     -1.958      0.050      -0.001    5.67e-07\n",
       "sfm            0.4549      0.067      6.809      0.000       0.324       0.586\n",
       "mode          -0.5198      0.092     -5.676      0.000      -0.699      -0.340\n",
       "centroid      -0.4944      0.906     -0.546      0.585      -2.270       1.281\n",
       "meanfun       12.0983      0.186     64.998      0.000      11.733      12.463\n",
       "minfun        -2.7008      0.277     -9.752      0.000      -3.244      -2.158\n",
       "maxfun        -0.7159      0.186     -3.850      0.000      -1.080      -0.351\n",
       "meandom        0.0533      0.017      3.183      0.001       0.020       0.086\n",
       "mindom        -0.1074      0.055     -1.960      0.050      -0.215    5.71e-05\n",
       "maxdom        -0.0527      0.027     -1.918      0.055      -0.107       0.001\n",
       "dfrange        0.0547      0.027      1.998      0.046       0.001       0.108\n",
       "modindx       -0.0165      0.051     -0.326      0.744      -0.116       0.083\n",
       "==============================================================================\n",
       "Omnibus:                      104.974   Durbin-Watson:                   2.092\n",
       "Prob(Omnibus):                  0.000   Jarque-Bera (JB):              315.854\n",
       "Skew:                           0.129   Prob(JB):                     2.59e-69\n",
       "Kurtosis:                       4.767   Cond. No.                     6.22e+19\n",
       "==============================================================================\n",
       "\n",
       "Warnings:\n",
       "[1] Standard Errors assume that the covariance matrix of the errors is correctly specified.\n",
       "[2] The smallest eigenvalue is 1.05e-32. This might indicate that there are\n",
       "strong multicollinearity problems or that the design matrix is singular.\n",
       "\"\"\""
      ]
     },
     "execution_count": 38,
     "metadata": {},
     "output_type": "execute_result"
    }
   ],
   "source": [
    "import numpy as np\n",
    "from statsmodels.formula.api import ols\n",
    "model=ols(\"label ~meanfreq+ sd+median+Q25+Q75+IQR+skew+kurt+sfm+mode+centroid+meanfun+minfun+maxfun+meandom+mindom+maxdom+dfrange+modindx\",data_train).fit()\n",
    "model.summary()\n"
   ]
  },
  {
   "cell_type": "code",
   "execution_count": 39,
   "metadata": {},
   "outputs": [
    {
     "data": {
      "text/html": [
       "<table class=\"simpletable\">\n",
       "<caption>OLS Regression Results</caption>\n",
       "<tr>\n",
       "  <th>Dep. Variable:</th>          <td>label</td>      <th>  R-squared:         </th> <td>   0.810</td>\n",
       "</tr>\n",
       "<tr>\n",
       "  <th>Model:</th>                   <td>OLS</td>       <th>  Adj. R-squared:    </th> <td>   0.809</td>\n",
       "</tr>\n",
       "<tr>\n",
       "  <th>Method:</th>             <td>Least Squares</td>  <th>  F-statistic:       </th> <td>   1117.</td>\n",
       "</tr>\n",
       "<tr>\n",
       "  <th>Date:</th>             <td>Sat, 15 Feb 2020</td> <th>  Prob (F-statistic):</th>  <td>  0.00</td> \n",
       "</tr>\n",
       "<tr>\n",
       "  <th>Time:</th>                 <td>17:04:50</td>     <th>  Log-Likelihood:    </th> <td>  245.54</td>\n",
       "</tr>\n",
       "<tr>\n",
       "  <th>No. Observations:</th>      <td>  2376</td>      <th>  AIC:               </th> <td>  -471.1</td>\n",
       "</tr>\n",
       "<tr>\n",
       "  <th>Df Residuals:</th>          <td>  2366</td>      <th>  BIC:               </th> <td>  -413.4</td>\n",
       "</tr>\n",
       "<tr>\n",
       "  <th>Df Model:</th>              <td>     9</td>      <th>                     </th>     <td> </td>   \n",
       "</tr>\n",
       "<tr>\n",
       "  <th>Covariance Type:</th>      <td>nonrobust</td>    <th>                     </th>     <td> </td>   \n",
       "</tr>\n",
       "</table>\n",
       "<table class=\"simpletable\">\n",
       "<tr>\n",
       "      <td></td>         <th>coef</th>     <th>std err</th>      <th>t</th>      <th>P>|t|</th>  <th>[0.025</th>    <th>0.975]</th>  \n",
       "</tr>\n",
       "<tr>\n",
       "  <th>Intercept</th> <td>   -0.3689</td> <td>    0.068</td> <td>   -5.432</td> <td> 0.000</td> <td>   -0.502</td> <td>   -0.236</td>\n",
       "</tr>\n",
       "<tr>\n",
       "  <th>Q75</th>       <td>   -1.8864</td> <td>    0.267</td> <td>   -7.058</td> <td> 0.000</td> <td>   -2.410</td> <td>   -1.362</td>\n",
       "</tr>\n",
       "<tr>\n",
       "  <th>IQR</th>       <td>   -3.9478</td> <td>    0.187</td> <td>  -21.163</td> <td> 0.000</td> <td>   -4.314</td> <td>   -3.582</td>\n",
       "</tr>\n",
       "<tr>\n",
       "  <th>skew</th>      <td>    0.0143</td> <td>    0.001</td> <td>   10.807</td> <td> 0.000</td> <td>    0.012</td> <td>    0.017</td>\n",
       "</tr>\n",
       "<tr>\n",
       "  <th>sfm</th>       <td>    0.3123</td> <td>    0.043</td> <td>    7.247</td> <td> 0.000</td> <td>    0.228</td> <td>    0.397</td>\n",
       "</tr>\n",
       "<tr>\n",
       "  <th>mode</th>      <td>   -0.4018</td> <td>    0.084</td> <td>   -4.771</td> <td> 0.000</td> <td>   -0.567</td> <td>   -0.237</td>\n",
       "</tr>\n",
       "<tr>\n",
       "  <th>meanfun</th>   <td>   12.0776</td> <td>    0.183</td> <td>   66.038</td> <td> 0.000</td> <td>   11.719</td> <td>   12.436</td>\n",
       "</tr>\n",
       "<tr>\n",
       "  <th>minfun</th>    <td>   -2.7154</td> <td>    0.274</td> <td>   -9.923</td> <td> 0.000</td> <td>   -3.252</td> <td>   -2.179</td>\n",
       "</tr>\n",
       "<tr>\n",
       "  <th>maxfun</th>    <td>   -0.6218</td> <td>    0.170</td> <td>   -3.665</td> <td> 0.000</td> <td>   -0.955</td> <td>   -0.289</td>\n",
       "</tr>\n",
       "<tr>\n",
       "  <th>meandom</th>   <td>    0.0642</td> <td>    0.011</td> <td>    5.791</td> <td> 0.000</td> <td>    0.042</td> <td>    0.086</td>\n",
       "</tr>\n",
       "</table>\n",
       "<table class=\"simpletable\">\n",
       "<tr>\n",
       "  <th>Omnibus:</th>       <td>93.016</td> <th>  Durbin-Watson:     </th> <td>   2.092</td>\n",
       "</tr>\n",
       "<tr>\n",
       "  <th>Prob(Omnibus):</th> <td> 0.000</td> <th>  Jarque-Bera (JB):  </th> <td> 270.806</td>\n",
       "</tr>\n",
       "<tr>\n",
       "  <th>Skew:</th>          <td> 0.080</td> <th>  Prob(JB):          </th> <td>1.57e-59</td>\n",
       "</tr>\n",
       "<tr>\n",
       "  <th>Kurtosis:</th>      <td> 4.646</td> <th>  Cond. No.          </th> <td>    350.</td>\n",
       "</tr>\n",
       "</table><br/><br/>Warnings:<br/>[1] Standard Errors assume that the covariance matrix of the errors is correctly specified."
      ],
      "text/plain": [
       "<class 'statsmodels.iolib.summary.Summary'>\n",
       "\"\"\"\n",
       "                            OLS Regression Results                            \n",
       "==============================================================================\n",
       "Dep. Variable:                  label   R-squared:                       0.810\n",
       "Model:                            OLS   Adj. R-squared:                  0.809\n",
       "Method:                 Least Squares   F-statistic:                     1117.\n",
       "Date:                Sat, 15 Feb 2020   Prob (F-statistic):               0.00\n",
       "Time:                        17:04:50   Log-Likelihood:                 245.54\n",
       "No. Observations:                2376   AIC:                            -471.1\n",
       "Df Residuals:                    2366   BIC:                            -413.4\n",
       "Df Model:                           9                                         \n",
       "Covariance Type:            nonrobust                                         \n",
       "==============================================================================\n",
       "                 coef    std err          t      P>|t|      [0.025      0.975]\n",
       "------------------------------------------------------------------------------\n",
       "Intercept     -0.3689      0.068     -5.432      0.000      -0.502      -0.236\n",
       "Q75           -1.8864      0.267     -7.058      0.000      -2.410      -1.362\n",
       "IQR           -3.9478      0.187    -21.163      0.000      -4.314      -3.582\n",
       "skew           0.0143      0.001     10.807      0.000       0.012       0.017\n",
       "sfm            0.3123      0.043      7.247      0.000       0.228       0.397\n",
       "mode          -0.4018      0.084     -4.771      0.000      -0.567      -0.237\n",
       "meanfun       12.0776      0.183     66.038      0.000      11.719      12.436\n",
       "minfun        -2.7154      0.274     -9.923      0.000      -3.252      -2.179\n",
       "maxfun        -0.6218      0.170     -3.665      0.000      -0.955      -0.289\n",
       "meandom        0.0642      0.011      5.791      0.000       0.042       0.086\n",
       "==============================================================================\n",
       "Omnibus:                       93.016   Durbin-Watson:                   2.092\n",
       "Prob(Omnibus):                  0.000   Jarque-Bera (JB):              270.806\n",
       "Skew:                           0.080   Prob(JB):                     1.57e-59\n",
       "Kurtosis:                       4.646   Cond. No.                         350.\n",
       "==============================================================================\n",
       "\n",
       "Warnings:\n",
       "[1] Standard Errors assume that the covariance matrix of the errors is correctly specified.\n",
       "\"\"\""
      ]
     },
     "execution_count": 39,
     "metadata": {},
     "output_type": "execute_result"
    }
   ],
   "source": [
    "model_c=ols(\"label ~Q75+IQR+skew+sfm+mode+meanfun+minfun+maxfun+meandom\",data_train).fit()\n",
    "model_c.summary()"
   ]
  },
  {
   "cell_type": "code",
   "execution_count": 40,
   "metadata": {},
   "outputs": [
    {
     "data": {
      "text/html": [
       "<table class=\"simpletable\">\n",
       "<caption>OLS Regression Results</caption>\n",
       "<tr>\n",
       "  <th>Dep. Variable:</th>          <td>label</td>      <th>  R-squared:         </th> <td>   0.743</td>\n",
       "</tr>\n",
       "<tr>\n",
       "  <th>Model:</th>                   <td>OLS</td>       <th>  Adj. R-squared:    </th> <td>   0.743</td>\n",
       "</tr>\n",
       "<tr>\n",
       "  <th>Method:</th>             <td>Least Squares</td>  <th>  F-statistic:       </th> <td>   3426.</td>\n",
       "</tr>\n",
       "<tr>\n",
       "  <th>Date:</th>             <td>Sat, 15 Feb 2020</td> <th>  Prob (F-statistic):</th>  <td>  0.00</td> \n",
       "</tr>\n",
       "<tr>\n",
       "  <th>Time:</th>                 <td>17:04:50</td>     <th>  Log-Likelihood:    </th> <td> -111.54</td>\n",
       "</tr>\n",
       "<tr>\n",
       "  <th>No. Observations:</th>      <td>  2376</td>      <th>  AIC:               </th> <td>   229.1</td>\n",
       "</tr>\n",
       "<tr>\n",
       "  <th>Df Residuals:</th>          <td>  2373</td>      <th>  BIC:               </th> <td>   246.4</td>\n",
       "</tr>\n",
       "<tr>\n",
       "  <th>Df Model:</th>              <td>     2</td>      <th>                     </th>     <td> </td>   \n",
       "</tr>\n",
       "<tr>\n",
       "  <th>Covariance Type:</th>      <td>nonrobust</td>    <th>                     </th>     <td> </td>   \n",
       "</tr>\n",
       "</table>\n",
       "<table class=\"simpletable\">\n",
       "<tr>\n",
       "      <td></td>         <th>coef</th>     <th>std err</th>      <th>t</th>      <th>P>|t|</th>  <th>[0.025</th>    <th>0.975]</th>  \n",
       "</tr>\n",
       "<tr>\n",
       "  <th>Intercept</th> <td>   -0.7890</td> <td>    0.037</td> <td>  -21.554</td> <td> 0.000</td> <td>   -0.861</td> <td>   -0.717</td>\n",
       "</tr>\n",
       "<tr>\n",
       "  <th>IQR</th>       <td>   -2.9983</td> <td>    0.149</td> <td>  -20.189</td> <td> 0.000</td> <td>   -3.290</td> <td>   -2.707</td>\n",
       "</tr>\n",
       "<tr>\n",
       "  <th>meanfun</th>   <td>   10.7637</td> <td>    0.195</td> <td>   55.281</td> <td> 0.000</td> <td>   10.382</td> <td>   11.146</td>\n",
       "</tr>\n",
       "</table>\n",
       "<table class=\"simpletable\">\n",
       "<tr>\n",
       "  <th>Omnibus:</th>       <td>35.170</td> <th>  Durbin-Watson:     </th> <td>   2.076</td>\n",
       "</tr>\n",
       "<tr>\n",
       "  <th>Prob(Omnibus):</th> <td> 0.000</td> <th>  Jarque-Bera (JB):  </th> <td>  36.617</td>\n",
       "</tr>\n",
       "<tr>\n",
       "  <th>Skew:</th>          <td> 0.286</td> <th>  Prob(JB):          </th> <td>1.12e-08</td>\n",
       "</tr>\n",
       "<tr>\n",
       "  <th>Kurtosis:</th>      <td> 3.205</td> <th>  Cond. No.          </th> <td>    43.2</td>\n",
       "</tr>\n",
       "</table><br/><br/>Warnings:<br/>[1] Standard Errors assume that the covariance matrix of the errors is correctly specified."
      ],
      "text/plain": [
       "<class 'statsmodels.iolib.summary.Summary'>\n",
       "\"\"\"\n",
       "                            OLS Regression Results                            \n",
       "==============================================================================\n",
       "Dep. Variable:                  label   R-squared:                       0.743\n",
       "Model:                            OLS   Adj. R-squared:                  0.743\n",
       "Method:                 Least Squares   F-statistic:                     3426.\n",
       "Date:                Sat, 15 Feb 2020   Prob (F-statistic):               0.00\n",
       "Time:                        17:04:50   Log-Likelihood:                -111.54\n",
       "No. Observations:                2376   AIC:                             229.1\n",
       "Df Residuals:                    2373   BIC:                             246.4\n",
       "Df Model:                           2                                         \n",
       "Covariance Type:            nonrobust                                         \n",
       "==============================================================================\n",
       "                 coef    std err          t      P>|t|      [0.025      0.975]\n",
       "------------------------------------------------------------------------------\n",
       "Intercept     -0.7890      0.037    -21.554      0.000      -0.861      -0.717\n",
       "IQR           -2.9983      0.149    -20.189      0.000      -3.290      -2.707\n",
       "meanfun       10.7637      0.195     55.281      0.000      10.382      11.146\n",
       "==============================================================================\n",
       "Omnibus:                       35.170   Durbin-Watson:                   2.076\n",
       "Prob(Omnibus):                  0.000   Jarque-Bera (JB):               36.617\n",
       "Skew:                           0.286   Prob(JB):                     1.12e-08\n",
       "Kurtosis:                       3.205   Cond. No.                         43.2\n",
       "==============================================================================\n",
       "\n",
       "Warnings:\n",
       "[1] Standard Errors assume that the covariance matrix of the errors is correctly specified.\n",
       "\"\"\""
      ]
     },
     "execution_count": 40,
     "metadata": {},
     "output_type": "execute_result"
    }
   ],
   "source": [
    "model_s=ols(\"label ~IQR+meanfun\",data_train).fit()\n",
    "model_s.summary()"
   ]
  },
  {
   "cell_type": "code",
   "execution_count": 41,
   "metadata": {},
   "outputs": [
    {
     "data": {
      "image/png": "[encoded data removed]",
      "text/plain": [
       "<Figure size 864x576 with 1 Axes>"
      ]
     },
     "metadata": {
      "needs_background": "light"
     },
     "output_type": "display_data"
    }
   ],
   "source": [
    "b0 = model_c.params.Intercept\n",
    "b1 = model_c.params.meanfun\n",
    "b2 = model_c.params.IQR\n",
    "\n",
    "m = -b1/b2\n",
    "q= - b0/b2\n",
    "\n",
    "x = np.linspace(np.min(data_train.meanfun),np.max(data_train.meanfun),2)\n",
    "y = m*x+q\n",
    "\n",
    "plt.figure(figsize=(12,8))\n",
    "sns.scatterplot('IQR','meanfun',data=data_train ,hue='label')\n",
    "plt.plot(x,y,'r')\n",
    "plt.show()"
   ]
  },
  {
   "cell_type": "code",
   "execution_count": 42,
   "metadata": {},
   "outputs": [
    {
     "name": "stdout",
     "output_type": "stream",
     "text": [
      "Optimization terminated successfully.\n",
      "         Current function value: 0.097667\n",
      "         Iterations 10\n"
     ]
    },
    {
     "data": {
      "text/html": [
       "<table class=\"simpletable\">\n",
       "<caption>Logit Regression Results</caption>\n",
       "<tr>\n",
       "  <th>Dep. Variable:</th>         <td>label</td>      <th>  No. Observations:  </th>  <td>  2376</td> \n",
       "</tr>\n",
       "<tr>\n",
       "  <th>Model:</th>                 <td>Logit</td>      <th>  Df Residuals:      </th>  <td>  2369</td> \n",
       "</tr>\n",
       "<tr>\n",
       "  <th>Method:</th>                 <td>MLE</td>       <th>  Df Model:          </th>  <td>     6</td> \n",
       "</tr>\n",
       "<tr>\n",
       "  <th>Date:</th>            <td>Sat, 15 Feb 2020</td> <th>  Pseudo R-squ.:     </th>  <td>0.8591</td> \n",
       "</tr>\n",
       "<tr>\n",
       "  <th>Time:</th>                <td>17:04:51</td>     <th>  Log-Likelihood:    </th> <td> -232.06</td>\n",
       "</tr>\n",
       "<tr>\n",
       "  <th>converged:</th>             <td>True</td>       <th>  LL-Null:           </th> <td> -1646.9</td>\n",
       "</tr>\n",
       "<tr>\n",
       "  <th>Covariance Type:</th>     <td>nonrobust</td>    <th>  LLR p-value:       </th>  <td> 0.000</td> \n",
       "</tr>\n",
       "</table>\n",
       "<table class=\"simpletable\">\n",
       "<tr>\n",
       "      <td></td>         <th>coef</th>     <th>std err</th>      <th>z</th>      <th>P>|z|</th>  <th>[0.025</th>    <th>0.975]</th>  \n",
       "</tr>\n",
       "<tr>\n",
       "  <th>Intercept</th> <td>  -18.5024</td> <td>    1.375</td> <td>  -13.460</td> <td> 0.000</td> <td>  -21.197</td> <td>  -15.808</td>\n",
       "</tr>\n",
       "<tr>\n",
       "  <th>sd</th>        <td> -179.5888</td> <td>   17.477</td> <td>  -10.276</td> <td> 0.000</td> <td> -213.844</td> <td> -145.334</td>\n",
       "</tr>\n",
       "<tr>\n",
       "  <th>skew</th>      <td>    0.8313</td> <td>    0.173</td> <td>    4.812</td> <td> 0.000</td> <td>    0.493</td> <td>    1.170</td>\n",
       "</tr>\n",
       "<tr>\n",
       "  <th>kurt</th>      <td>   -0.0181</td> <td>    0.006</td> <td>   -3.252</td> <td> 0.001</td> <td>   -0.029</td> <td>   -0.007</td>\n",
       "</tr>\n",
       "<tr>\n",
       "  <th>sfm</th>       <td>    9.6718</td> <td>    1.304</td> <td>    7.415</td> <td> 0.000</td> <td>    7.115</td> <td>   12.228</td>\n",
       "</tr>\n",
       "<tr>\n",
       "  <th>meanfun</th>   <td>  179.4659</td> <td>    9.865</td> <td>   18.192</td> <td> 0.000</td> <td>  160.131</td> <td>  198.801</td>\n",
       "</tr>\n",
       "<tr>\n",
       "  <th>minfun</th>    <td>  -55.8801</td> <td>    7.731</td> <td>   -7.228</td> <td> 0.000</td> <td>  -71.033</td> <td>  -40.727</td>\n",
       "</tr>\n",
       "</table><br/><br/>Possibly complete quasi-separation: A fraction 0.11 of observations can be<br/>perfectly predicted. This might indicate that there is complete<br/>quasi-separation. In this case some parameters will not be identified."
      ],
      "text/plain": [
       "<class 'statsmodels.iolib.summary.Summary'>\n",
       "\"\"\"\n",
       "                           Logit Regression Results                           \n",
       "==============================================================================\n",
       "Dep. Variable:                  label   No. Observations:                 2376\n",
       "Model:                          Logit   Df Residuals:                     2369\n",
       "Method:                           MLE   Df Model:                            6\n",
       "Date:                Sat, 15 Feb 2020   Pseudo R-squ.:                  0.8591\n",
       "Time:                        17:04:51   Log-Likelihood:                -232.06\n",
       "converged:                       True   LL-Null:                       -1646.9\n",
       "Covariance Type:            nonrobust   LLR p-value:                     0.000\n",
       "==============================================================================\n",
       "                 coef    std err          z      P>|z|      [0.025      0.975]\n",
       "------------------------------------------------------------------------------\n",
       "Intercept    -18.5024      1.375    -13.460      0.000     -21.197     -15.808\n",
       "sd          -179.5888     17.477    -10.276      0.000    -213.844    -145.334\n",
       "skew           0.8313      0.173      4.812      0.000       0.493       1.170\n",
       "kurt          -0.0181      0.006     -3.252      0.001      -0.029      -0.007\n",
       "sfm            9.6718      1.304      7.415      0.000       7.115      12.228\n",
       "meanfun      179.4659      9.865     18.192      0.000     160.131     198.801\n",
       "minfun       -55.8801      7.731     -7.228      0.000     -71.033     -40.727\n",
       "==============================================================================\n",
       "\n",
       "Possibly complete quasi-separation: A fraction 0.11 of observations can be\n",
       "perfectly predicted. This might indicate that there is complete\n",
       "quasi-separation. In this case some parameters will not be identified.\n",
       "\"\"\""
      ]
     },
     "execution_count": 42,
     "metadata": {},
     "output_type": "execute_result"
    }
   ],
   "source": [
    "from statsmodels.formula.api import logit\n",
    "model_c=logit(\"label ~ sd+skew+kurt+sfm+meanfun+minfun\",data_train).fit()\n",
    "model_c.summary()"
   ]
  },
  {
   "cell_type": "code",
   "execution_count": 43,
   "metadata": {},
   "outputs": [
    {
     "data": {
      "text/plain": [
       "array([[381,  10],\n",
       "       [ 17, 384]], dtype=int64)"
      ]
     },
     "execution_count": 43,
     "metadata": {},
     "output_type": "execute_result"
    }
   ],
   "source": [
    "from sklearn.metrics import confusion_matrix\n",
    "probs=model_c.predict(data_test)\n",
    "test_preds = probs.round().astype(int)\n",
    "test_gt = data_test.dropna()['label']\n",
    "confusion_matrix(test_gt, test_preds)"
   ]
  },
  {
   "cell_type": "code",
   "execution_count": 44,
   "metadata": {},
   "outputs": [
    {
     "data": {
      "text/plain": [
       "array([[381,  10],\n",
       "       [ 17, 384]], dtype=int64)"
      ]
     },
     "execution_count": 44,
     "metadata": {},
     "output_type": "execute_result"
    }
   ],
   "source": [
    "test_preds = probs.round().astype(int)\n",
    "test_gt = data_test.dropna()['label']\n",
    "confusion_matrix(test_gt, test_preds)"
   ]
  },
  {
   "cell_type": "code",
   "execution_count": 45,
   "metadata": {},
   "outputs": [
    {
     "name": "stdout",
     "output_type": "stream",
     "text": [
      "\n",
      "Classification Report\n",
      "               precision    recall  f1-score   support\n",
      "\n",
      "           0       0.96      0.97      0.97       391\n",
      "           1       0.97      0.96      0.97       401\n",
      "\n",
      "    accuracy                           0.97       792\n",
      "   macro avg       0.97      0.97      0.97       792\n",
      "weighted avg       0.97      0.97      0.97       792\n",
      "\n"
     ]
    }
   ],
   "source": [
    "from sklearn.metrics import classification_report\n",
    "print(\"\\nClassification Report\\n\",classification_report(test_gt, test_preds))"
   ]
  },
  {
   "cell_type": "code",
   "execution_count": 46,
   "metadata": {},
   "outputs": [
    {
     "data": {
      "text/plain": [
       "Intercept         0.729789\n",
       "meanfreq          0.609907\n",
       "sd                0.052594\n",
       "median            3.759356\n",
       "Q25               1.528367\n",
       "Q75               0.083963\n",
       "IQR               0.054936\n",
       "skew              1.026989\n",
       "kurt              0.999626\n",
       "sfm               1.575988\n",
       "mode              0.594655\n",
       "centroid          0.609907\n",
       "meanfun      179566.251823\n",
       "minfun            0.067149\n",
       "maxfun            0.488769\n",
       "meandom           1.054712\n",
       "mindom            0.898126\n",
       "maxdom            0.948639\n",
       "dfrange           1.056242\n",
       "modindx           0.983597\n",
       "dtype: float64"
      ]
     },
     "execution_count": 46,
     "metadata": {},
     "output_type": "execute_result"
    }
   ],
   "source": [
    "np.exp(model.params)"
   ]
  },
  {
   "cell_type": "code",
   "execution_count": 47,
   "metadata": {},
   "outputs": [
    {
     "name": "stdout",
     "output_type": "stream",
     "text": [
      "Optimization terminated successfully.\n",
      "         Current function value: 0.145966\n",
      "         Iterations 9\n"
     ]
    },
    {
     "data": {
      "text/html": [
       "<table class=\"simpletable\">\n",
       "<caption>Logit Regression Results</caption>\n",
       "<tr>\n",
       "  <th>Dep. Variable:</th>         <td>label</td>      <th>  No. Observations:  </th>  <td>  2376</td> \n",
       "</tr>\n",
       "<tr>\n",
       "  <th>Model:</th>                 <td>Logit</td>      <th>  Df Residuals:      </th>  <td>  2374</td> \n",
       "</tr>\n",
       "<tr>\n",
       "  <th>Method:</th>                 <td>MLE</td>       <th>  Df Model:          </th>  <td>     1</td> \n",
       "</tr>\n",
       "<tr>\n",
       "  <th>Date:</th>            <td>Sat, 15 Feb 2020</td> <th>  Pseudo R-squ.:     </th>  <td>0.7894</td> \n",
       "</tr>\n",
       "<tr>\n",
       "  <th>Time:</th>                <td>17:04:51</td>     <th>  Log-Likelihood:    </th> <td> -346.82</td>\n",
       "</tr>\n",
       "<tr>\n",
       "  <th>converged:</th>             <td>True</td>       <th>  LL-Null:           </th> <td> -1646.9</td>\n",
       "</tr>\n",
       "<tr>\n",
       "  <th>Covariance Type:</th>     <td>nonrobust</td>    <th>  LLR p-value:       </th>  <td> 0.000</td> \n",
       "</tr>\n",
       "</table>\n",
       "<table class=\"simpletable\">\n",
       "<tr>\n",
       "      <td></td>         <th>coef</th>     <th>std err</th>      <th>z</th>      <th>P>|z|</th>  <th>[0.025</th>    <th>0.975]</th>  \n",
       "</tr>\n",
       "<tr>\n",
       "  <th>Intercept</th> <td>  -26.8585</td> <td>    1.328</td> <td>  -20.219</td> <td> 0.000</td> <td>  -29.462</td> <td>  -24.255</td>\n",
       "</tr>\n",
       "<tr>\n",
       "  <th>meanfun</th>   <td>  189.5641</td> <td>    9.423</td> <td>   20.117</td> <td> 0.000</td> <td>  171.095</td> <td>  208.033</td>\n",
       "</tr>\n",
       "</table><br/><br/>Possibly complete quasi-separation: A fraction 0.11 of observations can be<br/>perfectly predicted. This might indicate that there is complete<br/>quasi-separation. In this case some parameters will not be identified."
      ],
      "text/plain": [
       "<class 'statsmodels.iolib.summary.Summary'>\n",
       "\"\"\"\n",
       "                           Logit Regression Results                           \n",
       "==============================================================================\n",
       "Dep. Variable:                  label   No. Observations:                 2376\n",
       "Model:                          Logit   Df Residuals:                     2374\n",
       "Method:                           MLE   Df Model:                            1\n",
       "Date:                Sat, 15 Feb 2020   Pseudo R-squ.:                  0.7894\n",
       "Time:                        17:04:51   Log-Likelihood:                -346.82\n",
       "converged:                       True   LL-Null:                       -1646.9\n",
       "Covariance Type:            nonrobust   LLR p-value:                     0.000\n",
       "==============================================================================\n",
       "                 coef    std err          z      P>|z|      [0.025      0.975]\n",
       "------------------------------------------------------------------------------\n",
       "Intercept    -26.8585      1.328    -20.219      0.000     -29.462     -24.255\n",
       "meanfun      189.5641      9.423     20.117      0.000     171.095     208.033\n",
       "==============================================================================\n",
       "\n",
       "Possibly complete quasi-separation: A fraction 0.11 of observations can be\n",
       "perfectly predicted. This might indicate that there is complete\n",
       "quasi-separation. In this case some parameters will not be identified.\n",
       "\"\"\""
      ]
     },
     "execution_count": 47,
     "metadata": {},
     "output_type": "execute_result"
    }
   ],
   "source": [
    "model_s=logit(\"label ~meanfun\",data_train).fit()\n",
    "model_s.summary()"
   ]
  },
  {
   "cell_type": "code",
   "execution_count": 48,
   "metadata": {},
   "outputs": [
    {
     "data": {
      "image/png": "[encoded data removed]",
      "text/plain": [
       "<Figure size 432x288 with 1 Axes>"
      ]
     },
     "metadata": {
      "needs_background": "light"
     },
     "output_type": "display_data"
    }
   ],
   "source": [
    "probs = model_s.predict(data_train)\n",
    "idx=np.argsort(data_train['meanfun'])\n",
    "sns.regplot('meanfun','label',data_train)\n",
    "plt.plot(data_train[\"meanfun\"].values[idx],probs.values[idx],'r')\n",
    "plt.grid()\n",
    "plt.show()"
   ]
  },
  {
   "cell_type": "code",
   "execution_count": 49,
   "metadata": {},
   "outputs": [
    {
     "data": {
      "text/plain": [
       "array([[375,  16],\n",
       "       [ 25, 376]], dtype=int64)"
      ]
     },
     "execution_count": 49,
     "metadata": {},
     "output_type": "execute_result"
    }
   ],
   "source": [
    "probs = model_s.predict(data_test)\n",
    "test_preds = probs.round().astype(int)\n",
    "test_gt = data_test.dropna()['label']\n",
    "confusion_matrix(test_gt, test_preds)"
   ]
  },
  {
   "cell_type": "code",
   "execution_count": 50,
   "metadata": {},
   "outputs": [
    {
     "name": "stdout",
     "output_type": "stream",
     "text": [
      "\n",
      "Classification Report\n",
      "               precision    recall  f1-score   support\n",
      "\n",
      "           0       0.94      0.96      0.95       391\n",
      "           1       0.96      0.94      0.95       401\n",
      "\n",
      "    accuracy                           0.95       792\n",
      "   macro avg       0.95      0.95      0.95       792\n",
      "weighted avg       0.95      0.95      0.95       792\n",
      "\n"
     ]
    }
   ],
   "source": [
    "print(\"\\nClassification Report\\n\",classification_report(test_gt, test_preds))"
   ]
  },
  {
   "cell_type": "code",
   "execution_count": 51,
   "metadata": {},
   "outputs": [],
   "source": [
    "dill.dump_session('notebook_env.db')"
   ]
  },
  {
   "cell_type": "code",
   "execution_count": null,
   "metadata": {},
   "outputs": [],
   "source": []
  }
 ],
 "metadata": {
  "kernelspec": {
   "display_name": "Python 3",
   "language": "python",
   "name": "python3"
  },
  "language_info": {
   "codemirror_mode": {
    "name": "ipython",
    "version": 3
   },
   "file_extension": ".py",
   "mimetype": "text/x-python",
   "name": "python",
   "nbconvert_exporter": "python",
   "pygments_lexer": "ipython3",
   "version": "3.7.4"
  }
 },
 "nbformat": 4,
 "nbformat_minor": 4
}
