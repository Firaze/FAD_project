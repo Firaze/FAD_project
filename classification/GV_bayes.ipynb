{
 "cells": [
  {
   "cell_type": "code",
   "execution_count": 1,
   "metadata": {},
   "outputs": [],
   "source": [
    "import dill\n",
    "dill.load_session('C:/Users/ress/Desktop/Università/FAD/Passatempo/GV/FAD_project/notebook_env.db')"
   ]
  },
  {
   "cell_type": "code",
   "execution_count": 155,
   "metadata": {},
   "outputs": [
    {
     "data": {
      "text/html": [
       "<div>\n",
       "<style scoped>\n",
       "    .dataframe tbody tr th:only-of-type {\n",
       "        vertical-align: middle;\n",
       "    }\n",
       "\n",
       "    .dataframe tbody tr th {\n",
       "        vertical-align: top;\n",
       "    }\n",
       "\n",
       "    .dataframe thead th {\n",
       "        text-align: right;\n",
       "    }\n",
       "</style>\n",
       "<table border=\"1\" class=\"dataframe\">\n",
       "  <thead>\n",
       "    <tr style=\"text-align: right;\">\n",
       "      <th></th>\n",
       "      <th>meanfreq</th>\n",
       "      <th>sd</th>\n",
       "      <th>median</th>\n",
       "      <th>Q25</th>\n",
       "      <th>Q75</th>\n",
       "      <th>IQR</th>\n",
       "      <th>skew</th>\n",
       "      <th>kurt</th>\n",
       "      <th>sp.ent</th>\n",
       "      <th>sfm</th>\n",
       "      <th>...</th>\n",
       "      <th>centroid</th>\n",
       "      <th>meanfun</th>\n",
       "      <th>minfun</th>\n",
       "      <th>maxfun</th>\n",
       "      <th>meandom</th>\n",
       "      <th>mindom</th>\n",
       "      <th>maxdom</th>\n",
       "      <th>dfrange</th>\n",
       "      <th>modindx</th>\n",
       "      <th>label</th>\n",
       "    </tr>\n",
       "  </thead>\n",
       "  <tbody>\n",
       "    <tr>\n",
       "      <td>0</td>\n",
       "      <td>0.059781</td>\n",
       "      <td>0.064241</td>\n",
       "      <td>0.032027</td>\n",
       "      <td>0.015071</td>\n",
       "      <td>0.090193</td>\n",
       "      <td>0.075122</td>\n",
       "      <td>12.863462</td>\n",
       "      <td>274.402906</td>\n",
       "      <td>0.893369</td>\n",
       "      <td>0.491918</td>\n",
       "      <td>...</td>\n",
       "      <td>0.059781</td>\n",
       "      <td>0.084279</td>\n",
       "      <td>0.015702</td>\n",
       "      <td>0.275862</td>\n",
       "      <td>0.007812</td>\n",
       "      <td>0.007812</td>\n",
       "      <td>0.007812</td>\n",
       "      <td>0.000000</td>\n",
       "      <td>0.000000</td>\n",
       "      <td>0</td>\n",
       "    </tr>\n",
       "    <tr>\n",
       "      <td>1</td>\n",
       "      <td>0.066009</td>\n",
       "      <td>0.067310</td>\n",
       "      <td>0.040229</td>\n",
       "      <td>0.019414</td>\n",
       "      <td>0.092666</td>\n",
       "      <td>0.073252</td>\n",
       "      <td>22.423285</td>\n",
       "      <td>634.613855</td>\n",
       "      <td>0.892193</td>\n",
       "      <td>0.513724</td>\n",
       "      <td>...</td>\n",
       "      <td>0.066009</td>\n",
       "      <td>0.107937</td>\n",
       "      <td>0.015826</td>\n",
       "      <td>0.250000</td>\n",
       "      <td>0.009014</td>\n",
       "      <td>0.007812</td>\n",
       "      <td>0.054688</td>\n",
       "      <td>0.046875</td>\n",
       "      <td>0.052632</td>\n",
       "      <td>0</td>\n",
       "    </tr>\n",
       "    <tr>\n",
       "      <td>2</td>\n",
       "      <td>0.077316</td>\n",
       "      <td>0.083829</td>\n",
       "      <td>0.036718</td>\n",
       "      <td>0.008701</td>\n",
       "      <td>0.131908</td>\n",
       "      <td>0.123207</td>\n",
       "      <td>30.757155</td>\n",
       "      <td>1024.927705</td>\n",
       "      <td>0.846389</td>\n",
       "      <td>0.478905</td>\n",
       "      <td>...</td>\n",
       "      <td>0.077316</td>\n",
       "      <td>0.098706</td>\n",
       "      <td>0.015656</td>\n",
       "      <td>0.271186</td>\n",
       "      <td>0.007990</td>\n",
       "      <td>0.007812</td>\n",
       "      <td>0.015625</td>\n",
       "      <td>0.007812</td>\n",
       "      <td>0.046512</td>\n",
       "      <td>0</td>\n",
       "    </tr>\n",
       "    <tr>\n",
       "      <td>3</td>\n",
       "      <td>0.151228</td>\n",
       "      <td>0.072111</td>\n",
       "      <td>0.158011</td>\n",
       "      <td>0.096582</td>\n",
       "      <td>0.207955</td>\n",
       "      <td>0.111374</td>\n",
       "      <td>1.232831</td>\n",
       "      <td>4.177296</td>\n",
       "      <td>0.963322</td>\n",
       "      <td>0.727232</td>\n",
       "      <td>...</td>\n",
       "      <td>0.151228</td>\n",
       "      <td>0.088965</td>\n",
       "      <td>0.017798</td>\n",
       "      <td>0.250000</td>\n",
       "      <td>0.201497</td>\n",
       "      <td>0.007812</td>\n",
       "      <td>0.562500</td>\n",
       "      <td>0.554688</td>\n",
       "      <td>0.247119</td>\n",
       "      <td>0</td>\n",
       "    </tr>\n",
       "    <tr>\n",
       "      <td>4</td>\n",
       "      <td>0.135120</td>\n",
       "      <td>0.079146</td>\n",
       "      <td>0.124656</td>\n",
       "      <td>0.078720</td>\n",
       "      <td>0.206045</td>\n",
       "      <td>0.127325</td>\n",
       "      <td>1.101174</td>\n",
       "      <td>4.333713</td>\n",
       "      <td>0.971955</td>\n",
       "      <td>0.783568</td>\n",
       "      <td>...</td>\n",
       "      <td>0.135120</td>\n",
       "      <td>0.106398</td>\n",
       "      <td>0.016931</td>\n",
       "      <td>0.266667</td>\n",
       "      <td>0.712812</td>\n",
       "      <td>0.007812</td>\n",
       "      <td>5.484375</td>\n",
       "      <td>5.476562</td>\n",
       "      <td>0.208274</td>\n",
       "      <td>0</td>\n",
       "    </tr>\n",
       "  </tbody>\n",
       "</table>\n",
       "<p>5 rows × 21 columns</p>\n",
       "</div>"
      ],
      "text/plain": [
       "   meanfreq        sd    median       Q25       Q75       IQR       skew  \\\n",
       "0  0.059781  0.064241  0.032027  0.015071  0.090193  0.075122  12.863462   \n",
       "1  0.066009  0.067310  0.040229  0.019414  0.092666  0.073252  22.423285   \n",
       "2  0.077316  0.083829  0.036718  0.008701  0.131908  0.123207  30.757155   \n",
       "3  0.151228  0.072111  0.158011  0.096582  0.207955  0.111374   1.232831   \n",
       "4  0.135120  0.079146  0.124656  0.078720  0.206045  0.127325   1.101174   \n",
       "\n",
       "          kurt    sp.ent       sfm  ...  centroid   meanfun    minfun  \\\n",
       "0   274.402906  0.893369  0.491918  ...  0.059781  0.084279  0.015702   \n",
       "1   634.613855  0.892193  0.513724  ...  0.066009  0.107937  0.015826   \n",
       "2  1024.927705  0.846389  0.478905  ...  0.077316  0.098706  0.015656   \n",
       "3     4.177296  0.963322  0.727232  ...  0.151228  0.088965  0.017798   \n",
       "4     4.333713  0.971955  0.783568  ...  0.135120  0.106398  0.016931   \n",
       "\n",
       "     maxfun   meandom    mindom    maxdom   dfrange   modindx  label  \n",
       "0  0.275862  0.007812  0.007812  0.007812  0.000000  0.000000      0  \n",
       "1  0.250000  0.009014  0.007812  0.054688  0.046875  0.052632      0  \n",
       "2  0.271186  0.007990  0.007812  0.015625  0.007812  0.046512      0  \n",
       "3  0.250000  0.201497  0.007812  0.562500  0.554688  0.247119      0  \n",
       "4  0.266667  0.712812  0.007812  5.484375  5.476562  0.208274      0  \n",
       "\n",
       "[5 rows x 21 columns]"
      ]
     },
     "execution_count": 155,
     "metadata": {},
     "output_type": "execute_result"
    }
   ],
   "source": [
    "data.head()"
   ]
  },
  {
   "cell_type": "code",
   "execution_count": 156,
   "metadata": {},
   "outputs": [],
   "source": [
    "from scipy.stats import norm\n",
    "g_m = norm(*norm.fit(data_train[data_train['label']==0]['meanfun']))\n",
    "g_f = norm(*norm.fit(data_train[data_train['label']==1]['meanfun']))"
   ]
  },
  {
   "cell_type": "code",
   "execution_count": 157,
   "metadata": {},
   "outputs": [
    {
     "name": "stdout",
     "output_type": "stream",
     "text": [
      "[-0.48590267  0.14228058]\n"
     ]
    }
   ],
   "source": [
    "def max_ind(mu_1,mu_2,sigma_1,sigma_2):\n",
    "    a = 1.0/(2*sigma_1**2) - 1.0/(2*sigma_2**2)\n",
    "    b = mu_2/(sigma_2**2) - mu_1/(sigma_1**2)\n",
    "    c = mu_1**2 /(2*sigma_1**2) - mu_2**2 / (2*sigma_2**2) - np.log(sigma_2/sigma_1)\n",
    "    return np.roots([a,b,c])\n",
    "solutions = max_ind(g_m.mean(),g_f.mean(),g_m.std(), g_f.std())\n",
    "print(solutions)"
   ]
  },
  {
   "cell_type": "code",
   "execution_count": 158,
   "metadata": {},
   "outputs": [
    {
     "data": {
      "image/png": "[encoded data removed]",
      "text/plain": [
       "<Figure size 864x432 with 1 Axes>"
      ]
     },
     "metadata": {
      "needs_background": "light"
     },
     "output_type": "display_data"
    }
   ],
   "source": [
    "from matplotlib import pyplot as plt\n",
    "\n",
    "x = np.linspace(g_f.ppf(0.000000000001), g_m.ppf(0.999999999999),1000)\n",
    "plt.figure(figsize=(12,6))\n",
    "plt.plot(x,g_m.pdf(x))\n",
    "plt.plot(x,g_f.pdf(x))\n",
    "plt.plot([solutions[1],solutions[1]],[0,25],'r')\n",
    "plt.legend(['M','F',\"Indecision Freq: {:0.1f}Hz\".format(solutions[1]*1009)])\n",
    "plt.grid()\n",
    "plt.show()"
   ]
  },
  {
   "cell_type": "code",
   "execution_count": 159,
   "metadata": {},
   "outputs": [],
   "source": [
    "prob_m=g_m.pdf(data_test[\"meanfun\"])\n",
    "prob_f=g_f.pdf(data_test[\"meanfun\"])\n",
    "pred_m=prob_m>=prob_f\n",
    "pred_f=prob_f>prob_m"
   ]
  },
  {
   "cell_type": "code",
   "execution_count": 3,
   "metadata": {},
   "outputs": [
    {
     "name": "stdout",
     "output_type": "stream",
     "text": [
      "False Positive Rate: 0.06\n",
      "True Positive Rate: 0.96\n",
      "\n",
      "Classification Report\n",
      "               precision    recall  f1-score   support\n",
      "\n",
      "       False       0.96      0.94      0.95       401\n",
      "        True       0.94      0.96      0.95       391\n",
      "\n",
      "    accuracy                           0.95       792\n",
      "   macro avg       0.95      0.95      0.95       792\n",
      "weighted avg       0.95      0.95      0.95       792\n",
      "\n"
     ]
    }
   ],
   "source": [
    "male_gt = data_test['label']==0\n",
    "cm = confusion_matrix(male_gt, pred_m)\n",
    "cm=cm/cm.sum(1).reshape(-1,1)\n",
    "_, fpr, _, tpr = cm.ravel()\n",
    "print(\"False Positive Rate: {:0.2f}\".format(fpr))\n",
    "print(\"True Positive Rate: {:0.2f}\".format(tpr))\n",
    "print(\"\\nClassification Report\\n\",classification_report(male_gt, pred_m))"
   ]
  },
  {
   "cell_type": "code",
   "execution_count": 161,
   "metadata": {},
   "outputs": [
    {
     "name": "stdout",
     "output_type": "stream",
     "text": [
      "False Positive Rate: 0.04\n",
      "True Positive Rate: 0.94\n",
      "\n",
      "Classification Report\n",
      "               precision    recall  f1-score   support\n",
      "\n",
      "       False       0.94      0.96      0.95       391\n",
      "        True       0.96      0.94      0.95       401\n",
      "\n",
      "    accuracy                           0.95       792\n",
      "   macro avg       0.95      0.95      0.95       792\n",
      "weighted avg       0.95      0.95      0.95       792\n",
      "\n"
     ]
    }
   ],
   "source": [
    "female_gt = data_test['label']==1\n",
    "cm = confusion_matrix(female_gt, pred_f)\n",
    "cm=cm/cm.sum(1).reshape(-1,1)\n",
    "_, fpr, _, tpr = cm.ravel()\n",
    "print(\"False Positive Rate: {:0.2f}\".format(fpr))\n",
    "print(\"True Positive Rate: {:0.2f}\".format(tpr))\n",
    "print(\"\\nClassification Report\\n\",classification_report(female_gt, pred_f))"
   ]
  },
  {
   "cell_type": "markdown",
   "metadata": {},
   "source": [
    "--------------------------------------------------------------------------------\n",
    "<h1>Mahalanobis<h1>\n"
   ]
  },
  {
   "cell_type": "code",
   "execution_count": 162,
   "metadata": {},
   "outputs": [],
   "source": [
    "dist_m = (data_test.meanfun-g_m.mean())/g_m.std()\n",
    "dist_f = (data_test.meanfun-g_f.mean())/g_f.std()\n",
    "pred_m=np.abs(dist_m)<np.abs(dist_f)\n",
    "pred_f=np.abs(dist_f)<np.abs(dist_m)"
   ]
  },
  {
   "cell_type": "code",
   "execution_count": 163,
   "metadata": {},
   "outputs": [
    {
     "name": "stdout",
     "output_type": "stream",
     "text": [
      "False Positive Rate: 0.06\n",
      "True Positive Rate: 0.96\n",
      "Classification Report\n",
      "               precision    recall  f1-score   support\n",
      "\n",
      "       False       0.96      0.94      0.95       401\n",
      "        True       0.94      0.96      0.95       391\n",
      "\n",
      "    accuracy                           0.95       792\n",
      "   macro avg       0.95      0.95      0.95       792\n",
      "weighted avg       0.95      0.95      0.95       792\n",
      "\n"
     ]
    }
   ],
   "source": [
    "cm = confusion_matrix(male_gt, pred_m)\n",
    "cm=cm/cm.sum(1).reshape(-1,1)\n",
    "_, fpr, _, tpr = cm.ravel()\n",
    "print(\"False Positive Rate: {:0.2f}\".format(fpr))\n",
    "print(\"True Positive Rate: {:0.2f}\".format(tpr))\n",
    "print(\"Classification Report\\n\",classification_report(male_gt,pred_m))"
   ]
  },
  {
   "cell_type": "code",
   "execution_count": 164,
   "metadata": {},
   "outputs": [
    {
     "name": "stdout",
     "output_type": "stream",
     "text": [
      "False Positive Rate: 0.04\n",
      "True Positive Rate: 0.94\n",
      "Classification Report\n",
      "               precision    recall  f1-score   support\n",
      "\n",
      "       False       0.94      0.96      0.95       391\n",
      "        True       0.96      0.94      0.95       401\n",
      "\n",
      "    accuracy                           0.95       792\n",
      "   macro avg       0.95      0.95      0.95       792\n",
      "weighted avg       0.95      0.95      0.95       792\n",
      "\n"
     ]
    }
   ],
   "source": [
    "cm = confusion_matrix(female_gt, pred_f)\n",
    "cm=cm/cm.sum(1).reshape(-1,1)\n",
    "_, fpr, _, tpr = cm.ravel()\n",
    "print(\"False Positive Rate: {:0.2f}\".format(fpr))\n",
    "print(\"True Positive Rate: {:0.2f}\".format(tpr))\n",
    "print(\"Classification Report\\n\",classification_report(female_gt,pred_f))"
   ]
  },
  {
   "cell_type": "markdown",
   "metadata": {},
   "source": [
    "------------------------------------------------------------------------------------\n",
    "<h1>Naive Bayes"
   ]
  },
  {
   "cell_type": "code",
   "execution_count": 19,
   "metadata": {},
   "outputs": [
    {
     "name": "stdout",
     "output_type": "stream",
     "text": [
      "Classification Report\n",
      "               precision    recall  f1-score   support\n",
      "\n",
      "           0       0.86      0.90      0.88       391\n",
      "           1       0.90      0.85      0.87       401\n",
      "\n",
      "    accuracy                           0.88       792\n",
      "   macro avg       0.88      0.88      0.87       792\n",
      "weighted avg       0.88      0.88      0.87       792\n",
      "\n"
     ]
    }
   ],
   "source": [
    "from sklearn.naive_bayes import GaussianNB\n",
    "model = GaussianNB(priors=[0.5,0.5])\n",
    "dc=np.array(data_train.columns)\n",
    "model.fit(data_train[dc[0:dc.size-1]],data_train['label'])\n",
    "pred=model.predict(data_test[dc[0:dc.size-1]])\n",
    "print(\"Classification Report\\n\",classification_report(data_test.label,pred))"
   ]
  },
  {
   "cell_type": "code",
   "execution_count": 21,
   "metadata": {},
   "outputs": [
    {
     "name": "stdout",
     "output_type": "stream",
     "text": [
      "Classification Report\n",
      "               precision    recall  f1-score   support\n",
      "\n",
      "           0       0.94      0.96      0.95       391\n",
      "           1       0.96      0.95      0.95       401\n",
      "\n",
      "    accuracy                           0.95       792\n",
      "   macro avg       0.95      0.95      0.95       792\n",
      "weighted avg       0.95      0.95      0.95       792\n",
      "\n"
     ]
    }
   ],
   "source": [
    "model.fit(data_train[[\"IQR\",\"skew\",\"sfm\",\"meanfun\",\"minfun\",\"modindx\"]],data_train['label'])\n",
    "pred=model.predict(data_test[[\"IQR\",\"skew\",\"sfm\",\"meanfun\",\"minfun\",\"modindx\"]])\n",
    "print(\"Classification Report\\n\",classification_report(data_test.label,pred))"
   ]
  },
  {
   "cell_type": "code",
   "execution_count": 22,
   "metadata": {},
   "outputs": [
    {
     "name": "stdout",
     "output_type": "stream",
     "text": [
      "Classification Report\n",
      "               precision    recall  f1-score   support\n",
      "\n",
      "           0       0.96      0.96      0.96       391\n",
      "           1       0.96      0.96      0.96       401\n",
      "\n",
      "    accuracy                           0.96       792\n",
      "   macro avg       0.96      0.96      0.96       792\n",
      "weighted avg       0.96      0.96      0.96       792\n",
      "\n"
     ]
    }
   ],
   "source": [
    "model.fit(data_train[[\"meanfun\",\"IQR\"]],data_train['label'])\n",
    "pred=model.predict(data_test[[\"meanfun\",\"IQR\"]])\n",
    "print(\"Classification Report\\n\",classification_report(data_test.label,pred))"
   ]
  },
  {
   "cell_type": "markdown",
   "metadata": {},
   "source": [
    "<h1> Map and Naive Bayes without outliers"
   ]
  },
  {
   "cell_type": "markdown",
   "metadata": {},
   "source": [
    "<h1> Map"
   ]
  },
  {
   "cell_type": "code",
   "execution_count": 10,
   "metadata": {},
   "outputs": [],
   "source": [
    "g_m = norm(*norm.fit(data_clean_train[data_clean_train['label']==0]['meanfun']))\n",
    "g_f = norm(*norm.fit(data_clean_train[data_clean_train['label']==1]['meanfun']))\n",
    "prob_m=g_m.pdf(data_clean_test[\"meanfun\"])\n",
    "prob_f=g_f.pdf(data_clean_test[\"meanfun\"])\n",
    "pred_m=prob_m>=prob_f\n",
    "pred_f=prob_f>prob_m"
   ]
  },
  {
   "cell_type": "code",
   "execution_count": 11,
   "metadata": {},
   "outputs": [
    {
     "name": "stdout",
     "output_type": "stream",
     "text": [
      "False Positive Rate: 0.05\n",
      "True Positive Rate: 0.97\n",
      "\n",
      "Classification Report\n",
      "               precision    recall  f1-score   support\n",
      "\n",
      "       False       0.97      0.95      0.96       350\n",
      "        True       0.96      0.97      0.96       382\n",
      "\n",
      "    accuracy                           0.96       732\n",
      "   macro avg       0.96      0.96      0.96       732\n",
      "weighted avg       0.96      0.96      0.96       732\n",
      "\n"
     ]
    }
   ],
   "source": [
    "male_gt = data_clean_test['label']==0\n",
    "cm = confusion_matrix(male_gt, pred_m)\n",
    "cm=cm/cm.sum(1).reshape(-1,1)\n",
    "_, fpr, _, tpr = cm.ravel()\n",
    "print(\"False Positive Rate: {:0.2f}\".format(fpr))\n",
    "print(\"True Positive Rate: {:0.2f}\".format(tpr))\n",
    "print(\"\\nClassification Report\\n\",classification_report(male_gt, pred_m))"
   ]
  },
  {
   "cell_type": "markdown",
   "metadata": {},
   "source": [
    "<h1> Naive"
   ]
  },
  {
   "cell_type": "code",
   "execution_count": 11,
   "metadata": {},
   "outputs": [
    {
     "name": "stdout",
     "output_type": "stream",
     "text": [
      "\n",
      "Classification Report\n",
      "               precision    recall  f1-score   support\n",
      "\n",
      "           0       0.94      0.92      0.93       382\n",
      "           1       0.92      0.93      0.93       350\n",
      "\n",
      "    accuracy                           0.93       732\n",
      "   macro avg       0.93      0.93      0.93       732\n",
      "weighted avg       0.93      0.93      0.93       732\n",
      "\n"
     ]
    }
   ],
   "source": [
    "model = GaussianNB(priors=[0.5,0.5])\n",
    "dc=np.array(data_clean_train.columns)\n",
    "model.fit(data_clean_train[dc[0:dc.size-1]],data_clean_train['label'])\n",
    "pred=model.predict(data_clean_test[dc[0:dc.size-1]])\n",
    "print(\"\\nClassification Report\\n\",classification_report(data_clean_test.label, pred))"
   ]
  },
  {
   "cell_type": "code",
   "execution_count": 29,
   "metadata": {},
   "outputs": [
    {
     "name": "stdout",
     "output_type": "stream",
     "text": [
      "\n",
      "Classification Report\n",
      "               precision    recall  f1-score   support\n",
      "\n",
      "           0       0.97      0.97      0.97       382\n",
      "           1       0.97      0.97      0.97       350\n",
      "\n",
      "    accuracy                           0.97       732\n",
      "   macro avg       0.97      0.97      0.97       732\n",
      "weighted avg       0.97      0.97      0.97       732\n",
      "\n"
     ]
    }
   ],
   "source": [
    "model.fit(data_clean_train[[\"IQR\",\"skew\",\"sfm\",\"meanfun\",\"minfun\",\"modindx\"]],data_clean_train['label'])\n",
    "pred=model.predict(data_clean_test[[\"IQR\",\"skew\",\"sfm\",\"meanfun\",\"minfun\",\"modindx\"]])\n",
    "print(\"\\nClassification Report\\n\",classification_report(data_clean_test.label, pred))"
   ]
  },
  {
   "cell_type": "code",
   "execution_count": 12,
   "metadata": {},
   "outputs": [
    {
     "name": "stdout",
     "output_type": "stream",
     "text": [
      "\n",
      "Classification Report\n",
      "               precision    recall  f1-score   support\n",
      "\n",
      "           0       0.98      0.98      0.98       382\n",
      "           1       0.98      0.97      0.98       350\n",
      "\n",
      "    accuracy                           0.98       732\n",
      "   macro avg       0.98      0.98      0.98       732\n",
      "weighted avg       0.98      0.98      0.98       732\n",
      "\n"
     ]
    }
   ],
   "source": [
    "clean_gauss.fit(data_clean_train[[\"IQR\",\"meanfun\"]],data_clean_train['label'])\n",
    "pred=clean_gauss.predict(data_clean_test[[\"IQR\",\"meanfun\"]])\n",
    "print(\"\\nClassification Report\\n\",classification_report(data_clean_test.label, pred))"
   ]
  },
  {
   "cell_type": "markdown",
   "metadata": {},
   "source": [
    "<h1>-----------------------------------------------------------------------------------------------------------------------------------PCA"
   ]
  },
  {
   "cell_type": "code",
   "execution_count": 9,
   "metadata": {},
   "outputs": [
    {
     "name": "stdout",
     "output_type": "stream",
     "text": [
      "\n",
      "Classification Report\n",
      "               precision    recall  f1-score   support\n",
      "\n",
      "           0       0.97      0.98      0.98       382\n",
      "           1       0.98      0.97      0.97       350\n",
      "\n",
      "    accuracy                           0.98       732\n",
      "   macro avg       0.98      0.98      0.98       732\n",
      "weighted avg       0.98      0.98      0.98       732\n",
      "\n"
     ]
    }
   ],
   "source": [
    "pca_gauss=GaussianNB(priors=[0.5,0.5])\n",
    "pca_gauss.fit(pca_train[[\"n3\",\"n4\"]],pca_train['label'])\n",
    "pred=pca_gauss.predict(pca_test[[\"n3\",\"n4\"]])\n",
    "print(\"\\nClassification Report\\n\",classification_report(data_clean_test.label, pred))"
   ]
  },
  {
   "cell_type": "code",
   "execution_count": 13,
   "metadata": {},
   "outputs": [],
   "source": [
    "dill.dump_session('C:/Users/ress/Desktop/Università/FAD/Passatempo/GV/FAD_project/notebook_env.db')"
   ]
  },
  {
   "cell_type": "code",
   "execution_count": null,
   "metadata": {},
   "outputs": [],
   "source": []
  }
 ],
 "metadata": {
  "kernelspec": {
   "display_name": "Python 3",
   "language": "python",
   "name": "python3"
  },
  "language_info": {
   "codemirror_mode": {
    "name": "ipython",
    "version": 3
   },
   "file_extension": ".py",
   "mimetype": "text/x-python",
   "name": "python",
   "nbconvert_exporter": "python",
   "pygments_lexer": "ipython3",
   "version": "3.7.4"
  }
 },
 "nbformat": 4,
 "nbformat_minor": 4
}
